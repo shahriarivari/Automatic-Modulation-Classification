{
 "cells": [
  {
   "cell_type": "code",
   "execution_count": 3,
   "metadata": {},
   "outputs": [],
   "source": [
    "import scipy.io\n",
    "import pickle\n",
    "\n",
    "# Load the data from the MATLAB file\n",
    "data = scipy.io.loadmat('modulation_examples.mat')\n",
    "\n",
    "# Initialize a dictionary to store the processed data\n",
    "dataset = {}\n",
    "\n",
    "for key in data:\n",
    "    # Skip meta keys\n",
    "    if key.startswith(\"__\"):\n",
    "        continue\n",
    "    \n",
    "    # Parse the modulation type and SNR from the key\n",
    "    modulation, snr_str = key.split('__')\n",
    "    snr = int(snr_str.replace('neg', '-').replace('pos', ''))\n",
    "    \n",
    "    # Store the data in the dictionary\n",
    "    dataset[(modulation, snr)] = data[key]\n",
    "\n",
    "# Save the dictionary to a pickle file\n",
    "with open('modulation_examples.pkl', 'wb') as f:\n",
    "    pickle.dump(dataset, f)"
   ]
  },
  {
   "cell_type": "code",
   "execution_count": 4,
   "metadata": {},
   "outputs": [
    {
     "name": "stdout",
     "output_type": "stream",
     "text": [
      "dict_keys([('QAM16', 0), ('QAM16', 2), ('QAM16', 4), ('QAM16', 6), ('QAM16', 8), ('QAM16', 10), ('QAM16', 12), ('QAM16', 14), ('QAM16', 16), ('QAM16', 18), ('QAM16', 20), ('QAM64', 0), ('QAM64', 2), ('QAM64', 4), ('QAM64', 6), ('QAM64', 8), ('QAM64', 10), ('QAM64', 12), ('QAM64', 14), ('QAM64', 16), ('QAM64', 18), ('QAM64', 20)])\n"
     ]
    }
   ],
   "source": [
    "import pickle\n",
    "\n",
    "# Load the dataset from the pickle file\n",
    "with open('modulation_examples.pkl', 'rb') as f:\n",
    "    dataset = pickle.load(f)\n",
    "\n",
    "# Now you can access the dataset\n",
    "print(dataset.keys())  # This will print the keys (modulation type, SNR tuples) in the dataset\n"
   ]
  }
 ],
 "metadata": {
  "kernelspec": {
   "display_name": "Python 3",
   "language": "python",
   "name": "python3"
  },
  "language_info": {
   "codemirror_mode": {
    "name": "ipython",
    "version": 3
   },
   "file_extension": ".py",
   "mimetype": "text/x-python",
   "name": "python",
   "nbconvert_exporter": "python",
   "pygments_lexer": "ipython3",
   "version": "3.11.6"
  }
 },
 "nbformat": 4,
 "nbformat_minor": 2
}
