{
 "cells": [
  {
   "cell_type": "markdown",
   "metadata": {},
   "source": [
    "# Importing Libraries"
   ]
  },
  {
   "cell_type": "code",
   "execution_count": 1,
   "metadata": {},
   "outputs": [],
   "source": [
    "# imports \n",
    "import numpy as np\n",
    "import torch\n",
    "import torch.nn as nn\n",
    "import torch.nn.init as init\n",
    "import torch.optim as optim\n",
    "from torch.utils.data import DataLoader, TensorDataset\n",
    "from sklearn.preprocessing import LabelEncoder\n",
    "from utills import set_seed\n",
    "import pickle\n",
    "import os"
   ]
  },
  {
   "cell_type": "code",
   "execution_count": 2,
   "metadata": {},
   "outputs": [],
   "source": [
    "set_seed()"
   ]
  },
  {
   "cell_type": "markdown",
   "metadata": {},
   "source": [
    "## Loading Data\n",
    "We are using our data_setup python script to load digital modulations from RML2016.10a Dataset\n",
    "and also creating train and test splits  "
   ]
  },
  {
   "cell_type": "code",
   "execution_count": 9,
   "metadata": {},
   "outputs": [
    {
     "name": "stdout",
     "output_type": "stream",
     "text": [
      "shape of the train and test **samples** are --> ((128000, 2, 128), (32000, 2, 128))\n",
      "shape of the train and test **labels** are --> ((128000, 2), (32000, 2))\n"
     ]
    }
   ],
   "source": [
    "from data_setup import load_data , load_digital_mods\n",
    "\n",
    "data = load_data(path='RML2016.10a/RML2016.10a_dict.pkl')\n",
    "X_train , y_train , X_test , y_test, mods = load_digital_mods(data=data , ratio= 0.2)\n",
    "print(f\"shape of the train and test **samples** are --> {X_train.shape , X_test.shape}\")\n",
    "print(f\"shape of the train and test **labels** are --> {y_train.shape , y_test.shape}\")"
   ]
  },
  {
   "cell_type": "markdown",
   "metadata": {},
   "source": [
    "### Fitting a label encoder\n",
    "Fitting a label encoder inorder to convert the labels into integer"
   ]
  },
  {
   "cell_type": "code",
   "execution_count": 5,
   "metadata": {},
   "outputs": [
    {
     "data": {
      "text/plain": [
       "(dict, numpy.ndarray, numpy.ndarray)"
      ]
     },
     "execution_count": 5,
     "metadata": {},
     "output_type": "execute_result"
    }
   ],
   "source": [
    "type(data) , type(X_train), type(y_train)"
   ]
  },
  {
   "cell_type": "code",
   "execution_count": 10,
   "metadata": {},
   "outputs": [
    {
     "data": {
      "text/html": [
       "<style>#sk-container-id-2 {\n",
       "  /* Definition of color scheme common for light and dark mode */\n",
       "  --sklearn-color-text: black;\n",
       "  --sklearn-color-line: gray;\n",
       "  /* Definition of color scheme for unfitted estimators */\n",
       "  --sklearn-color-unfitted-level-0: #fff5e6;\n",
       "  --sklearn-color-unfitted-level-1: #f6e4d2;\n",
       "  --sklearn-color-unfitted-level-2: #ffe0b3;\n",
       "  --sklearn-color-unfitted-level-3: chocolate;\n",
       "  /* Definition of color scheme for fitted estimators */\n",
       "  --sklearn-color-fitted-level-0: #f0f8ff;\n",
       "  --sklearn-color-fitted-level-1: #d4ebff;\n",
       "  --sklearn-color-fitted-level-2: #b3dbfd;\n",
       "  --sklearn-color-fitted-level-3: cornflowerblue;\n",
       "\n",
       "  /* Specific color for light theme */\n",
       "  --sklearn-color-text-on-default-background: var(--sg-text-color, var(--theme-code-foreground, var(--jp-content-font-color1, black)));\n",
       "  --sklearn-color-background: var(--sg-background-color, var(--theme-background, var(--jp-layout-color0, white)));\n",
       "  --sklearn-color-border-box: var(--sg-text-color, var(--theme-code-foreground, var(--jp-content-font-color1, black)));\n",
       "  --sklearn-color-icon: #696969;\n",
       "\n",
       "  @media (prefers-color-scheme: dark) {\n",
       "    /* Redefinition of color scheme for dark theme */\n",
       "    --sklearn-color-text-on-default-background: var(--sg-text-color, var(--theme-code-foreground, var(--jp-content-font-color1, white)));\n",
       "    --sklearn-color-background: var(--sg-background-color, var(--theme-background, var(--jp-layout-color0, #111)));\n",
       "    --sklearn-color-border-box: var(--sg-text-color, var(--theme-code-foreground, var(--jp-content-font-color1, white)));\n",
       "    --sklearn-color-icon: #878787;\n",
       "  }\n",
       "}\n",
       "\n",
       "#sk-container-id-2 {\n",
       "  color: var(--sklearn-color-text);\n",
       "}\n",
       "\n",
       "#sk-container-id-2 pre {\n",
       "  padding: 0;\n",
       "}\n",
       "\n",
       "#sk-container-id-2 input.sk-hidden--visually {\n",
       "  border: 0;\n",
       "  clip: rect(1px 1px 1px 1px);\n",
       "  clip: rect(1px, 1px, 1px, 1px);\n",
       "  height: 1px;\n",
       "  margin: -1px;\n",
       "  overflow: hidden;\n",
       "  padding: 0;\n",
       "  position: absolute;\n",
       "  width: 1px;\n",
       "}\n",
       "\n",
       "#sk-container-id-2 div.sk-dashed-wrapped {\n",
       "  border: 1px dashed var(--sklearn-color-line);\n",
       "  margin: 0 0.4em 0.5em 0.4em;\n",
       "  box-sizing: border-box;\n",
       "  padding-bottom: 0.4em;\n",
       "  background-color: var(--sklearn-color-background);\n",
       "}\n",
       "\n",
       "#sk-container-id-2 div.sk-container {\n",
       "  /* jupyter's `normalize.less` sets `[hidden] { display: none; }`\n",
       "     but bootstrap.min.css set `[hidden] { display: none !important; }`\n",
       "     so we also need the `!important` here to be able to override the\n",
       "     default hidden behavior on the sphinx rendered scikit-learn.org.\n",
       "     See: https://github.com/scikit-learn/scikit-learn/issues/21755 */\n",
       "  display: inline-block !important;\n",
       "  position: relative;\n",
       "}\n",
       "\n",
       "#sk-container-id-2 div.sk-text-repr-fallback {\n",
       "  display: none;\n",
       "}\n",
       "\n",
       "div.sk-parallel-item,\n",
       "div.sk-serial,\n",
       "div.sk-item {\n",
       "  /* draw centered vertical line to link estimators */\n",
       "  background-image: linear-gradient(var(--sklearn-color-text-on-default-background), var(--sklearn-color-text-on-default-background));\n",
       "  background-size: 2px 100%;\n",
       "  background-repeat: no-repeat;\n",
       "  background-position: center center;\n",
       "}\n",
       "\n",
       "/* Parallel-specific style estimator block */\n",
       "\n",
       "#sk-container-id-2 div.sk-parallel-item::after {\n",
       "  content: \"\";\n",
       "  width: 100%;\n",
       "  border-bottom: 2px solid var(--sklearn-color-text-on-default-background);\n",
       "  flex-grow: 1;\n",
       "}\n",
       "\n",
       "#sk-container-id-2 div.sk-parallel {\n",
       "  display: flex;\n",
       "  align-items: stretch;\n",
       "  justify-content: center;\n",
       "  background-color: var(--sklearn-color-background);\n",
       "  position: relative;\n",
       "}\n",
       "\n",
       "#sk-container-id-2 div.sk-parallel-item {\n",
       "  display: flex;\n",
       "  flex-direction: column;\n",
       "}\n",
       "\n",
       "#sk-container-id-2 div.sk-parallel-item:first-child::after {\n",
       "  align-self: flex-end;\n",
       "  width: 50%;\n",
       "}\n",
       "\n",
       "#sk-container-id-2 div.sk-parallel-item:last-child::after {\n",
       "  align-self: flex-start;\n",
       "  width: 50%;\n",
       "}\n",
       "\n",
       "#sk-container-id-2 div.sk-parallel-item:only-child::after {\n",
       "  width: 0;\n",
       "}\n",
       "\n",
       "/* Serial-specific style estimator block */\n",
       "\n",
       "#sk-container-id-2 div.sk-serial {\n",
       "  display: flex;\n",
       "  flex-direction: column;\n",
       "  align-items: center;\n",
       "  background-color: var(--sklearn-color-background);\n",
       "  padding-right: 1em;\n",
       "  padding-left: 1em;\n",
       "}\n",
       "\n",
       "\n",
       "/* Toggleable style: style used for estimator/Pipeline/ColumnTransformer box that is\n",
       "clickable and can be expanded/collapsed.\n",
       "- Pipeline and ColumnTransformer use this feature and define the default style\n",
       "- Estimators will overwrite some part of the style using the `sk-estimator` class\n",
       "*/\n",
       "\n",
       "/* Pipeline and ColumnTransformer style (default) */\n",
       "\n",
       "#sk-container-id-2 div.sk-toggleable {\n",
       "  /* Default theme specific background. It is overwritten whether we have a\n",
       "  specific estimator or a Pipeline/ColumnTransformer */\n",
       "  background-color: var(--sklearn-color-background);\n",
       "}\n",
       "\n",
       "/* Toggleable label */\n",
       "#sk-container-id-2 label.sk-toggleable__label {\n",
       "  cursor: pointer;\n",
       "  display: block;\n",
       "  width: 100%;\n",
       "  margin-bottom: 0;\n",
       "  padding: 0.5em;\n",
       "  box-sizing: border-box;\n",
       "  text-align: center;\n",
       "}\n",
       "\n",
       "#sk-container-id-2 label.sk-toggleable__label-arrow:before {\n",
       "  /* Arrow on the left of the label */\n",
       "  content: \"▸\";\n",
       "  float: left;\n",
       "  margin-right: 0.25em;\n",
       "  color: var(--sklearn-color-icon);\n",
       "}\n",
       "\n",
       "#sk-container-id-2 label.sk-toggleable__label-arrow:hover:before {\n",
       "  color: var(--sklearn-color-text);\n",
       "}\n",
       "\n",
       "/* Toggleable content - dropdown */\n",
       "\n",
       "#sk-container-id-2 div.sk-toggleable__content {\n",
       "  max-height: 0;\n",
       "  max-width: 0;\n",
       "  overflow: hidden;\n",
       "  text-align: left;\n",
       "  /* unfitted */\n",
       "  background-color: var(--sklearn-color-unfitted-level-0);\n",
       "}\n",
       "\n",
       "#sk-container-id-2 div.sk-toggleable__content.fitted {\n",
       "  /* fitted */\n",
       "  background-color: var(--sklearn-color-fitted-level-0);\n",
       "}\n",
       "\n",
       "#sk-container-id-2 div.sk-toggleable__content pre {\n",
       "  margin: 0.2em;\n",
       "  border-radius: 0.25em;\n",
       "  color: var(--sklearn-color-text);\n",
       "  /* unfitted */\n",
       "  background-color: var(--sklearn-color-unfitted-level-0);\n",
       "}\n",
       "\n",
       "#sk-container-id-2 div.sk-toggleable__content.fitted pre {\n",
       "  /* unfitted */\n",
       "  background-color: var(--sklearn-color-fitted-level-0);\n",
       "}\n",
       "\n",
       "#sk-container-id-2 input.sk-toggleable__control:checked~div.sk-toggleable__content {\n",
       "  /* Expand drop-down */\n",
       "  max-height: 200px;\n",
       "  max-width: 100%;\n",
       "  overflow: auto;\n",
       "}\n",
       "\n",
       "#sk-container-id-2 input.sk-toggleable__control:checked~label.sk-toggleable__label-arrow:before {\n",
       "  content: \"▾\";\n",
       "}\n",
       "\n",
       "/* Pipeline/ColumnTransformer-specific style */\n",
       "\n",
       "#sk-container-id-2 div.sk-label input.sk-toggleable__control:checked~label.sk-toggleable__label {\n",
       "  color: var(--sklearn-color-text);\n",
       "  background-color: var(--sklearn-color-unfitted-level-2);\n",
       "}\n",
       "\n",
       "#sk-container-id-2 div.sk-label.fitted input.sk-toggleable__control:checked~label.sk-toggleable__label {\n",
       "  background-color: var(--sklearn-color-fitted-level-2);\n",
       "}\n",
       "\n",
       "/* Estimator-specific style */\n",
       "\n",
       "/* Colorize estimator box */\n",
       "#sk-container-id-2 div.sk-estimator input.sk-toggleable__control:checked~label.sk-toggleable__label {\n",
       "  /* unfitted */\n",
       "  background-color: var(--sklearn-color-unfitted-level-2);\n",
       "}\n",
       "\n",
       "#sk-container-id-2 div.sk-estimator.fitted input.sk-toggleable__control:checked~label.sk-toggleable__label {\n",
       "  /* fitted */\n",
       "  background-color: var(--sklearn-color-fitted-level-2);\n",
       "}\n",
       "\n",
       "#sk-container-id-2 div.sk-label label.sk-toggleable__label,\n",
       "#sk-container-id-2 div.sk-label label {\n",
       "  /* The background is the default theme color */\n",
       "  color: var(--sklearn-color-text-on-default-background);\n",
       "}\n",
       "\n",
       "/* On hover, darken the color of the background */\n",
       "#sk-container-id-2 div.sk-label:hover label.sk-toggleable__label {\n",
       "  color: var(--sklearn-color-text);\n",
       "  background-color: var(--sklearn-color-unfitted-level-2);\n",
       "}\n",
       "\n",
       "/* Label box, darken color on hover, fitted */\n",
       "#sk-container-id-2 div.sk-label.fitted:hover label.sk-toggleable__label.fitted {\n",
       "  color: var(--sklearn-color-text);\n",
       "  background-color: var(--sklearn-color-fitted-level-2);\n",
       "}\n",
       "\n",
       "/* Estimator label */\n",
       "\n",
       "#sk-container-id-2 div.sk-label label {\n",
       "  font-family: monospace;\n",
       "  font-weight: bold;\n",
       "  display: inline-block;\n",
       "  line-height: 1.2em;\n",
       "}\n",
       "\n",
       "#sk-container-id-2 div.sk-label-container {\n",
       "  text-align: center;\n",
       "}\n",
       "\n",
       "/* Estimator-specific */\n",
       "#sk-container-id-2 div.sk-estimator {\n",
       "  font-family: monospace;\n",
       "  border: 1px dotted var(--sklearn-color-border-box);\n",
       "  border-radius: 0.25em;\n",
       "  box-sizing: border-box;\n",
       "  margin-bottom: 0.5em;\n",
       "  /* unfitted */\n",
       "  background-color: var(--sklearn-color-unfitted-level-0);\n",
       "}\n",
       "\n",
       "#sk-container-id-2 div.sk-estimator.fitted {\n",
       "  /* fitted */\n",
       "  background-color: var(--sklearn-color-fitted-level-0);\n",
       "}\n",
       "\n",
       "/* on hover */\n",
       "#sk-container-id-2 div.sk-estimator:hover {\n",
       "  /* unfitted */\n",
       "  background-color: var(--sklearn-color-unfitted-level-2);\n",
       "}\n",
       "\n",
       "#sk-container-id-2 div.sk-estimator.fitted:hover {\n",
       "  /* fitted */\n",
       "  background-color: var(--sklearn-color-fitted-level-2);\n",
       "}\n",
       "\n",
       "/* Specification for estimator info (e.g. \"i\" and \"?\") */\n",
       "\n",
       "/* Common style for \"i\" and \"?\" */\n",
       "\n",
       ".sk-estimator-doc-link,\n",
       "a:link.sk-estimator-doc-link,\n",
       "a:visited.sk-estimator-doc-link {\n",
       "  float: right;\n",
       "  font-size: smaller;\n",
       "  line-height: 1em;\n",
       "  font-family: monospace;\n",
       "  background-color: var(--sklearn-color-background);\n",
       "  border-radius: 1em;\n",
       "  height: 1em;\n",
       "  width: 1em;\n",
       "  text-decoration: none !important;\n",
       "  margin-left: 1ex;\n",
       "  /* unfitted */\n",
       "  border: var(--sklearn-color-unfitted-level-1) 1pt solid;\n",
       "  color: var(--sklearn-color-unfitted-level-1);\n",
       "}\n",
       "\n",
       ".sk-estimator-doc-link.fitted,\n",
       "a:link.sk-estimator-doc-link.fitted,\n",
       "a:visited.sk-estimator-doc-link.fitted {\n",
       "  /* fitted */\n",
       "  border: var(--sklearn-color-fitted-level-1) 1pt solid;\n",
       "  color: var(--sklearn-color-fitted-level-1);\n",
       "}\n",
       "\n",
       "/* On hover */\n",
       "div.sk-estimator:hover .sk-estimator-doc-link:hover,\n",
       ".sk-estimator-doc-link:hover,\n",
       "div.sk-label-container:hover .sk-estimator-doc-link:hover,\n",
       ".sk-estimator-doc-link:hover {\n",
       "  /* unfitted */\n",
       "  background-color: var(--sklearn-color-unfitted-level-3);\n",
       "  color: var(--sklearn-color-background);\n",
       "  text-decoration: none;\n",
       "}\n",
       "\n",
       "div.sk-estimator.fitted:hover .sk-estimator-doc-link.fitted:hover,\n",
       ".sk-estimator-doc-link.fitted:hover,\n",
       "div.sk-label-container:hover .sk-estimator-doc-link.fitted:hover,\n",
       ".sk-estimator-doc-link.fitted:hover {\n",
       "  /* fitted */\n",
       "  background-color: var(--sklearn-color-fitted-level-3);\n",
       "  color: var(--sklearn-color-background);\n",
       "  text-decoration: none;\n",
       "}\n",
       "\n",
       "/* Span, style for the box shown on hovering the info icon */\n",
       ".sk-estimator-doc-link span {\n",
       "  display: none;\n",
       "  z-index: 9999;\n",
       "  position: relative;\n",
       "  font-weight: normal;\n",
       "  right: .2ex;\n",
       "  padding: .5ex;\n",
       "  margin: .5ex;\n",
       "  width: min-content;\n",
       "  min-width: 20ex;\n",
       "  max-width: 50ex;\n",
       "  color: var(--sklearn-color-text);\n",
       "  box-shadow: 2pt 2pt 4pt #999;\n",
       "  /* unfitted */\n",
       "  background: var(--sklearn-color-unfitted-level-0);\n",
       "  border: .5pt solid var(--sklearn-color-unfitted-level-3);\n",
       "}\n",
       "\n",
       ".sk-estimator-doc-link.fitted span {\n",
       "  /* fitted */\n",
       "  background: var(--sklearn-color-fitted-level-0);\n",
       "  border: var(--sklearn-color-fitted-level-3);\n",
       "}\n",
       "\n",
       ".sk-estimator-doc-link:hover span {\n",
       "  display: block;\n",
       "}\n",
       "\n",
       "/* \"?\"-specific style due to the `<a>` HTML tag */\n",
       "\n",
       "#sk-container-id-2 a.estimator_doc_link {\n",
       "  float: right;\n",
       "  font-size: 1rem;\n",
       "  line-height: 1em;\n",
       "  font-family: monospace;\n",
       "  background-color: var(--sklearn-color-background);\n",
       "  border-radius: 1rem;\n",
       "  height: 1rem;\n",
       "  width: 1rem;\n",
       "  text-decoration: none;\n",
       "  /* unfitted */\n",
       "  color: var(--sklearn-color-unfitted-level-1);\n",
       "  border: var(--sklearn-color-unfitted-level-1) 1pt solid;\n",
       "}\n",
       "\n",
       "#sk-container-id-2 a.estimator_doc_link.fitted {\n",
       "  /* fitted */\n",
       "  border: var(--sklearn-color-fitted-level-1) 1pt solid;\n",
       "  color: var(--sklearn-color-fitted-level-1);\n",
       "}\n",
       "\n",
       "/* On hover */\n",
       "#sk-container-id-2 a.estimator_doc_link:hover {\n",
       "  /* unfitted */\n",
       "  background-color: var(--sklearn-color-unfitted-level-3);\n",
       "  color: var(--sklearn-color-background);\n",
       "  text-decoration: none;\n",
       "}\n",
       "\n",
       "#sk-container-id-2 a.estimator_doc_link.fitted:hover {\n",
       "  /* fitted */\n",
       "  background-color: var(--sklearn-color-fitted-level-3);\n",
       "}\n",
       "</style><div id=\"sk-container-id-2\" class=\"sk-top-container\"><div class=\"sk-text-repr-fallback\"><pre>LabelEncoder()</pre><b>In a Jupyter environment, please rerun this cell to show the HTML representation or trust the notebook. <br />On GitHub, the HTML representation is unable to render, please try loading this page with nbviewer.org.</b></div><div class=\"sk-container\" hidden><div class=\"sk-item\"><div class=\"sk-estimator fitted sk-toggleable\"><input class=\"sk-toggleable__control sk-hidden--visually\" id=\"sk-estimator-id-2\" type=\"checkbox\" checked><label for=\"sk-estimator-id-2\" class=\"sk-toggleable__label fitted sk-toggleable__label-arrow fitted\">&nbsp;&nbsp;LabelEncoder<a class=\"sk-estimator-doc-link fitted\" rel=\"noreferrer\" target=\"_blank\" href=\"https://scikit-learn.org/1.4/modules/generated/sklearn.preprocessing.LabelEncoder.html\">?<span>Documentation for LabelEncoder</span></a><span class=\"sk-estimator-doc-link fitted\">i<span>Fitted</span></span></label><div class=\"sk-toggleable__content fitted\"><pre>LabelEncoder()</pre></div> </div></div></div></div>"
      ],
      "text/plain": [
       "LabelEncoder()"
      ]
     },
     "execution_count": 10,
     "metadata": {},
     "output_type": "execute_result"
    }
   ],
   "source": [
    "# fit a label encoder to transform the labels into one-hot encodings\n",
    "label_encoder = LabelEncoder()\n",
    "label_encoder.fit(list(set(y_train[:,0])))"
   ]
  },
  {
   "cell_type": "markdown",
   "metadata": {},
   "source": [
    "### Converting train and test arrays into Tensors\n",
    "* first reshaping out input data to have the following shape : ( samples, number_of_channels = 1 , 2 , 128)\n",
    "* then converting the labels using the label_encoder\n",
    "* finally creating DataLoaders for out model"
   ]
  },
  {
   "cell_type": "code",
   "execution_count": 11,
   "metadata": {},
   "outputs": [],
   "source": [
    "X_train = X_train.reshape(-1,1,2,128)\n",
    "X_test = X_test.reshape(-1,1,2,128)\n",
    "y_train_encoded = label_encoder.transform(y_train[:,0]).astype(np.float32)\n",
    "y_test_encoded = label_encoder.transform(y_test[:,0]).astype(np.float32)"
   ]
  },
  {
   "cell_type": "code",
   "execution_count": 7,
   "metadata": {},
   "outputs": [
    {
     "data": {
      "text/plain": [
       "(dict, numpy.ndarray, numpy.ndarray)"
      ]
     },
     "execution_count": 7,
     "metadata": {},
     "output_type": "execute_result"
    }
   ],
   "source": [
    "type(data) , type(X_train), type(y_train)"
   ]
  },
  {
   "cell_type": "code",
   "execution_count": 13,
   "metadata": {},
   "outputs": [],
   "source": [
    "# Convert train arrays to PyTorch tensors\n",
    "\n",
    "train_tensor = torch.tensor(X_train, dtype=torch.float)\n",
    "train_targets_tensor = torch.tensor(y_train_encoded, dtype=torch.long)\n",
    "\n",
    "# Convert test arrays to PyTorch tensors\n",
    "test_tensor = torch.tensor(X_test, dtype=torch.float)\n",
    "test_targets_tensor = torch.tensor(y_test_encoded, dtype=torch.long)\n",
    "\n",
    "# Create a TensorDataset\n",
    "trainset = TensorDataset(train_tensor, train_targets_tensor)\n",
    "testset = TensorDataset(test_tensor, test_targets_tensor)"
   ]
  },
  {
   "cell_type": "code",
   "execution_count": 14,
   "metadata": {},
   "outputs": [],
   "source": [
    "train_dataloader = DataLoader(dataset = trainset,\n",
    "                              batch_size= 1024,\n",
    "                              shuffle=True)\n",
    "test_dataloader = DataLoader(dataset = testset,\n",
    "                             batch_size= 1024,\n",
    "                             shuffle=False)"
   ]
  },
  {
   "cell_type": "markdown",
   "metadata": {},
   "source": [
    "## Creating model's class\n",
    "Here we are using Pytorch to creat our CNN model"
   ]
  },
  {
   "cell_type": "code",
   "execution_count": 17,
   "metadata": {},
   "outputs": [],
   "source": [
    "class CNNModel(nn.Module):\n",
    "    def __init__(self):\n",
    "        super().__init__()\n",
    "        self.conv_block = nn.Sequential(\n",
    "            nn.Conv2d(in_channels=1, out_channels=256, kernel_size=(1, 3), padding='same'),\n",
    "            nn.ReLU(),\n",
    "            nn.Dropout(0.5),\n",
    "            nn.Conv2d(in_channels=256, out_channels=80, kernel_size=(2, 3), padding='same'),\n",
    "            nn.ReLU(),\n",
    "            nn.Dropout(0.5),\n",
    "            nn.AvgPool2d(kernel_size = (2,2))\n",
    "        )\n",
    "        self.fc_layers = nn.Sequential(\n",
    "            nn.Flatten(start_dim=1),\n",
    "            nn.Linear(5120, 256),\n",
    "            nn.ReLU(),\n",
    "            nn.Linear(256, 8)\n",
    "        )\n",
    "    \n",
    "    def filters_output(self,x):\n",
    "        return self.conv_block(x)\n",
    "\n",
    "    def initialize_weights(self):\n",
    "        for module in self.modules():\n",
    "            if isinstance(module, nn.Conv2d) or isinstance(module, nn.Linear):\n",
    "                # Initialize weights using Xavier initialization\n",
    "                init.xavier_uniform_(module.weight)\n",
    "                # Initialize biases to zeros\n",
    "                if module.bias is not None:\n",
    "                    init.constant_(module.bias, 0.0)\n",
    "\n",
    "    def forward(self, x):\n",
    "        return self.fc_layers(self.conv_block(x))"
   ]
  },
  {
   "cell_type": "markdown",
   "metadata": {},
   "source": [
    "## Training the Model\n",
    "\n",
    "for training we are using the  `train_functions` python script\n",
    "\n",
    "this script includes functions to train a model and returning the results of the  \n",
    "train and test results in each epoch"
   ]
  },
  {
   "cell_type": "code",
   "execution_count": 35,
   "metadata": {},
   "outputs": [],
   "source": [
    "from train_functions import train\n",
    "\n",
    "# Make device agnostic code\n",
    "device = \"cuda\" if torch.cuda.is_available() else \"cpu\"\n",
    "\n",
    "# Set number of epochs\n",
    "NUM_EPOCHS = 50\n",
    "# initial the loss function and ompitmizer\n",
    "learning_rate = 0.001\n",
    "loss_function = nn.CrossEntropyLoss()"
   ]
  },
  {
   "cell_type": "code",
   "execution_count": 36,
   "metadata": {},
   "outputs": [
    {
     "data": {
      "application/vnd.jupyter.widget-view+json": {
       "model_id": "ea3650755cbb466eb0d2ee9c5b185587",
       "version_major": 2,
       "version_minor": 0
      },
      "text/plain": [
       "  0%|          | 0/50 [00:00<?, ?it/s]"
      ]
     },
     "metadata": {},
     "output_type": "display_data"
    },
    {
     "name": "stdout",
     "output_type": "stream",
     "text": [
      "Epoch: 1 | train_loss: 2.0795 | train_acc: 0.1265 | test_loss: 2.0792 | test_acc: 0.1272\n",
      "Epoch: 2 | train_loss: 2.0061 | train_acc: 0.1815 | test_loss: 1.8494 | test_acc: 0.2785\n",
      "Epoch: 3 | train_loss: 1.7123 | train_acc: 0.3116 | test_loss: 1.5754 | test_acc: 0.3548\n",
      "Epoch: 4 | train_loss: 1.5489 | train_acc: 0.3616 | test_loss: 1.4911 | test_acc: 0.3932\n",
      "Epoch: 5 | train_loss: 1.4782 | train_acc: 0.3960 | test_loss: 1.4261 | test_acc: 0.4161\n",
      "Epoch: 6 | train_loss: 1.4053 | train_acc: 0.4234 | test_loss: 1.3390 | test_acc: 0.4498\n",
      "Epoch: 7 | train_loss: 1.3546 | train_acc: 0.4453 | test_loss: 1.3073 | test_acc: 0.4575\n",
      "Epoch: 8 | train_loss: 1.3196 | train_acc: 0.4555 | test_loss: 1.2741 | test_acc: 0.4667\n",
      "Epoch: 9 | train_loss: 1.2919 | train_acc: 0.4662 | test_loss: 1.2665 | test_acc: 0.4608\n",
      "Epoch: 10 | train_loss: 1.2736 | train_acc: 0.4729 | test_loss: 1.2384 | test_acc: 0.4785\n",
      "Epoch: 11 | train_loss: 1.2483 | train_acc: 0.4835 | test_loss: 1.2525 | test_acc: 0.4788\n",
      "Epoch: 12 | train_loss: 1.2297 | train_acc: 0.4909 | test_loss: 1.2002 | test_acc: 0.5010\n",
      "Epoch: 13 | train_loss: 1.2102 | train_acc: 0.4988 | test_loss: 1.1732 | test_acc: 0.5033\n",
      "Epoch: 14 | train_loss: 1.1961 | train_acc: 0.5009 | test_loss: 1.1641 | test_acc: 0.5053\n",
      "Epoch: 15 | train_loss: 1.1860 | train_acc: 0.5042 | test_loss: 1.1600 | test_acc: 0.5094\n",
      "Epoch: 16 | train_loss: 1.1746 | train_acc: 0.5093 | test_loss: 1.1516 | test_acc: 0.5049\n",
      "Epoch: 17 | train_loss: 1.1640 | train_acc: 0.5134 | test_loss: 1.1458 | test_acc: 0.5150\n",
      "Epoch: 18 | train_loss: 1.1550 | train_acc: 0.5152 | test_loss: 1.1428 | test_acc: 0.5142\n",
      "Epoch: 19 | train_loss: 1.1480 | train_acc: 0.5201 | test_loss: 1.1304 | test_acc: 0.5132\n",
      "Epoch: 20 | train_loss: 1.1411 | train_acc: 0.5215 | test_loss: 1.1251 | test_acc: 0.5243\n",
      "Epoch: 21 | train_loss: 1.1379 | train_acc: 0.5223 | test_loss: 1.1332 | test_acc: 0.5140\n",
      "Epoch: 22 | train_loss: 1.1308 | train_acc: 0.5246 | test_loss: 1.1283 | test_acc: 0.5207\n",
      "Epoch: 23 | train_loss: 1.1279 | train_acc: 0.5273 | test_loss: 1.1421 | test_acc: 0.5013\n",
      "Epoch: 24 | train_loss: 1.1189 | train_acc: 0.5312 | test_loss: 1.1324 | test_acc: 0.5126\n",
      "Epoch: 25 | train_loss: 1.1159 | train_acc: 0.5315 | test_loss: 1.1152 | test_acc: 0.5190\n",
      "Epoch: 26 | train_loss: 1.1104 | train_acc: 0.5339 | test_loss: 1.1086 | test_acc: 0.5264\n",
      "Epoch: 27 | train_loss: 1.1032 | train_acc: 0.5374 | test_loss: 1.1062 | test_acc: 0.5208\n",
      "Epoch: 28 | train_loss: 1.0998 | train_acc: 0.5388 | test_loss: 1.1051 | test_acc: 0.5248\n",
      "Epoch: 29 | train_loss: 1.0998 | train_acc: 0.5384 | test_loss: 1.0981 | test_acc: 0.5297\n",
      "Epoch: 30 | train_loss: 1.0947 | train_acc: 0.5405 | test_loss: 1.0988 | test_acc: 0.5274\n",
      "Epoch: 31 | train_loss: 1.0916 | train_acc: 0.5423 | test_loss: 1.0954 | test_acc: 0.5254\n",
      "Epoch: 32 | train_loss: 1.0895 | train_acc: 0.5442 | test_loss: 1.0956 | test_acc: 0.5191\n",
      "Epoch: 33 | train_loss: 1.0848 | train_acc: 0.5450 | test_loss: 1.1099 | test_acc: 0.5160\n",
      "Epoch: 34 | train_loss: 1.0839 | train_acc: 0.5463 | test_loss: 1.0891 | test_acc: 0.5312\n",
      "Epoch: 35 | train_loss: 1.0787 | train_acc: 0.5476 | test_loss: 1.0872 | test_acc: 0.5321\n",
      "Epoch: 36 | train_loss: 1.0753 | train_acc: 0.5499 | test_loss: 1.0887 | test_acc: 0.5366\n",
      "Epoch: 37 | train_loss: 1.0716 | train_acc: 0.5514 | test_loss: 1.0998 | test_acc: 0.5271\n",
      "Epoch: 38 | train_loss: 1.0718 | train_acc: 0.5513 | test_loss: 1.0965 | test_acc: 0.5267\n",
      "Epoch: 39 | train_loss: 1.0655 | train_acc: 0.5540 | test_loss: 1.0881 | test_acc: 0.5254\n",
      "Epoch: 40 | train_loss: 1.0634 | train_acc: 0.5555 | test_loss: 1.0760 | test_acc: 0.5415\n",
      "Epoch: 41 | train_loss: 1.0568 | train_acc: 0.5595 | test_loss: 1.0741 | test_acc: 0.5438\n",
      "Epoch: 42 | train_loss: 1.0558 | train_acc: 0.5598 | test_loss: 1.0806 | test_acc: 0.5357\n",
      "Epoch: 43 | train_loss: 1.0498 | train_acc: 0.5615 | test_loss: 1.0748 | test_acc: 0.5332\n",
      "Epoch: 44 | train_loss: 1.0474 | train_acc: 0.5636 | test_loss: 1.0668 | test_acc: 0.5417\n",
      "Epoch: 45 | train_loss: 1.0423 | train_acc: 0.5679 | test_loss: 1.0700 | test_acc: 0.5404\n",
      "Epoch: 46 | train_loss: 1.0422 | train_acc: 0.5668 | test_loss: 1.0686 | test_acc: 0.5419\n",
      "Epoch: 47 | train_loss: 1.0355 | train_acc: 0.5707 | test_loss: 1.0627 | test_acc: 0.5450\n",
      "Epoch: 48 | train_loss: 1.0307 | train_acc: 0.5731 | test_loss: 1.0648 | test_acc: 0.5435\n",
      "Epoch: 49 | train_loss: 1.0279 | train_acc: 0.5741 | test_loss: 1.0620 | test_acc: 0.5436\n",
      "Epoch: 50 | train_loss: 1.0255 | train_acc: 0.5764 | test_loss: 1.0578 | test_acc: 0.5436\n"
     ]
    }
   ],
   "source": [
    "# intial the model\n",
    "cnn_model = CNNModel().to(device)\n",
    "cnn_model.initialize_weights()\n",
    "optimizer = optim.AdamW(cnn_model.parameters(), lr=learning_rate)\n",
    "\n",
    "results = train(model=cnn_model, \n",
    "                train_dataloader = train_dataloader,\n",
    "                test_dataloader = test_dataloader,\n",
    "                optimizer=optimizer,\n",
    "                criterion=loss_function, \n",
    "                epochs=NUM_EPOCHS,\n",
    "                device=device)"
   ]
  },
  {
   "cell_type": "code",
   "execution_count": 37,
   "metadata": {},
   "outputs": [],
   "source": [
    "from train_functions import plot_loss, plot_accuracy"
   ]
  },
  {
   "cell_type": "code",
   "execution_count": 38,
   "metadata": {},
   "outputs": [
    {
     "data": {
      "image/png": "[encoded data removed]",
      "text/plain": [
       "<Figure size 640x480 with 1 Axes>"
      ]
     },
     "metadata": {},
     "output_type": "display_data"
    }
   ],
   "source": [
    "plot_loss(results)"
   ]
  },
  {
   "cell_type": "code",
   "execution_count": 39,
   "metadata": {},
   "outputs": [
    {
     "data": {
      "image/png": "[encoded data removed]",
      "text/plain": [
       "<Figure size 640x480 with 1 Axes>"
      ]
     },
     "metadata": {},
     "output_type": "display_data"
    }
   ],
   "source": [
    "plot_accuracy(results)"
   ]
  },
  {
   "cell_type": "markdown",
   "metadata": {},
   "source": [
    "## Saving the results\n",
    "here we save the model itself, its label encoder, and the train and test loss"
   ]
  },
  {
   "cell_type": "code",
   "execution_count": 11,
   "metadata": {},
   "outputs": [
    {
     "name": "stdout",
     "output_type": "stream",
     "text": [
      "Model saved to cnn_models\\cnnModel\n",
      "LabelEncoder saved to label_encoders\\LabelEncoder\n",
      "Metrics saved to models_results\\cnnModel\n"
     ]
    }
   ],
   "source": [
    "from utills import save_model, save_label_encoder, save_metrics\n",
    "\n",
    "save_model(model = cnn_model,\n",
    "           dir_path = \"cnn_models\",\n",
    "           file_name = \"cnnModel\")\n",
    "\n",
    "save_label_encoder(label_encoder=label_encoder,\n",
    "                   dir_path = \"label_encoders\",\n",
    "                    file_name = \"LabelEncoder\" )\n",
    "\n",
    "save_metrics(metrics= results,\n",
    "             dir_path = \"models_results\",\n",
    "             file_name = \"cnnModel\" )\n"
   ]
  },
  {
   "cell_type": "markdown",
   "metadata": {},
   "source": [
    "## Validation phase\n",
    "\n",
    "in this section we validate the model's performance and\n",
    "print out the confusion matrices and some metrics."
   ]
  },
  {
   "cell_type": "markdown",
   "metadata": {},
   "source": [
    "Loading model and label encoder"
   ]
  },
  {
   "cell_type": "code",
   "execution_count": 23,
   "metadata": {},
   "outputs": [
    {
     "name": "stdout",
     "output_type": "stream",
     "text": [
      "LabelEncoder loaded from label_encoders/LabelEncoder\n",
      "Model loaded from cnn_models/cnnModel\n"
     ]
    },
    {
     "data": {
      "text/plain": [
       "CNNModel(\n",
       "  (conv_block): Sequential(\n",
       "    (0): Conv2d(1, 256, kernel_size=(1, 3), stride=(1, 1), padding=same)\n",
       "    (1): ReLU()\n",
       "    (2): Dropout(p=0.5, inplace=False)\n",
       "    (3): Conv2d(256, 80, kernel_size=(2, 3), stride=(1, 1), padding=same)\n",
       "    (4): ReLU()\n",
       "    (5): Dropout(p=0.5, inplace=False)\n",
       "    (6): AvgPool2d(kernel_size=(2, 2), stride=(2, 2), padding=0)\n",
       "  )\n",
       "  (fc_layers): Sequential(\n",
       "    (0): Flatten(start_dim=1, end_dim=-1)\n",
       "    (1): Linear(in_features=5120, out_features=256, bias=True)\n",
       "    (2): ReLU()\n",
       "    (3): Linear(in_features=256, out_features=8, bias=True)\n",
       "  )\n",
       ")"
      ]
     },
     "execution_count": 23,
     "metadata": {},
     "output_type": "execute_result"
    }
   ],
   "source": [
    "from utills import load_label_encoder , load_model\n",
    "\n",
    "labelencoder = load_label_encoder(file_path= \"label_encoders/LabelEncoder\")\n",
    "cnn_model = CNNModel()\n",
    "cnn_model = load_model(model= cnn_model , file_path= \"cnn_models/cnnModel\")\n",
    "# Make device agnostic code\n",
    "device = \"cuda\" if torch.cuda.is_available() else \"cpu\"\n",
    "cnn_model.to(device)"
   ]
  },
  {
   "cell_type": "code",
   "execution_count": 24,
   "metadata": {},
   "outputs": [],
   "source": [
    "import matplotlib.pyplot as plt\n",
    "from torchmetrics import ConfusionMatrix\n",
    "from mlxtend.plotting import plot_confusion_matrix"
   ]
  },
  {
   "cell_type": "markdown",
   "metadata": {},
   "source": [
    "defining a list to append the predictions  into it"
   ]
  },
  {
   "cell_type": "code",
   "execution_count": 25,
   "metadata": {},
   "outputs": [
    {
     "name": "stderr",
     "output_type": "stream",
     "text": [
      "c:\\Users\\shahr\\AppData\\Local\\Programs\\Python\\Python311\\Lib\\site-packages\\sklearn\\preprocessing\\_label.py:153: DataConversionWarning: A column-vector y was passed when a 1d array was expected. Please change the shape of y to (n_samples, ), for example using ravel().\n",
      "  y = column_or_1d(y, warn=True)\n",
      "c:\\Users\\shahr\\AppData\\Local\\Programs\\Python\\Python311\\Lib\\site-packages\\sklearn\\preprocessing\\_label.py:153: DataConversionWarning: A column-vector y was passed when a 1d array was expected. Please change the shape of y to (n_samples, ), for example using ravel().\n",
      "  y = column_or_1d(y, warn=True)\n",
      "c:\\Users\\shahr\\AppData\\Local\\Programs\\Python\\Python311\\Lib\\site-packages\\sklearn\\preprocessing\\_label.py:153: DataConversionWarning: A column-vector y was passed when a 1d array was expected. Please change the shape of y to (n_samples, ), for example using ravel().\n",
      "  y = column_or_1d(y, warn=True)\n",
      "c:\\Users\\shahr\\AppData\\Local\\Programs\\Python\\Python311\\Lib\\site-packages\\sklearn\\preprocessing\\_label.py:153: DataConversionWarning: A column-vector y was passed when a 1d array was expected. Please change the shape of y to (n_samples, ), for example using ravel().\n",
      "  y = column_or_1d(y, warn=True)\n",
      "c:\\Users\\shahr\\AppData\\Local\\Programs\\Python\\Python311\\Lib\\site-packages\\sklearn\\preprocessing\\_label.py:153: DataConversionWarning: A column-vector y was passed when a 1d array was expected. Please change the shape of y to (n_samples, ), for example using ravel().\n",
      "  y = column_or_1d(y, warn=True)\n",
      "c:\\Users\\shahr\\AppData\\Local\\Programs\\Python\\Python311\\Lib\\site-packages\\sklearn\\preprocessing\\_label.py:153: DataConversionWarning: A column-vector y was passed when a 1d array was expected. Please change the shape of y to (n_samples, ), for example using ravel().\n",
      "  y = column_or_1d(y, warn=True)\n",
      "c:\\Users\\shahr\\AppData\\Local\\Programs\\Python\\Python311\\Lib\\site-packages\\sklearn\\preprocessing\\_label.py:153: DataConversionWarning: A column-vector y was passed when a 1d array was expected. Please change the shape of y to (n_samples, ), for example using ravel().\n",
      "  y = column_or_1d(y, warn=True)\n",
      "c:\\Users\\shahr\\AppData\\Local\\Programs\\Python\\Python311\\Lib\\site-packages\\sklearn\\preprocessing\\_label.py:153: DataConversionWarning: A column-vector y was passed when a 1d array was expected. Please change the shape of y to (n_samples, ), for example using ravel().\n",
      "  y = column_or_1d(y, warn=True)\n",
      "c:\\Users\\shahr\\AppData\\Local\\Programs\\Python\\Python311\\Lib\\site-packages\\sklearn\\preprocessing\\_label.py:153: DataConversionWarning: A column-vector y was passed when a 1d array was expected. Please change the shape of y to (n_samples, ), for example using ravel().\n",
      "  y = column_or_1d(y, warn=True)\n",
      "c:\\Users\\shahr\\AppData\\Local\\Programs\\Python\\Python311\\Lib\\site-packages\\sklearn\\preprocessing\\_label.py:153: DataConversionWarning: A column-vector y was passed when a 1d array was expected. Please change the shape of y to (n_samples, ), for example using ravel().\n",
      "  y = column_or_1d(y, warn=True)\n",
      "c:\\Users\\shahr\\AppData\\Local\\Programs\\Python\\Python311\\Lib\\site-packages\\sklearn\\preprocessing\\_label.py:153: DataConversionWarning: A column-vector y was passed when a 1d array was expected. Please change the shape of y to (n_samples, ), for example using ravel().\n",
      "  y = column_or_1d(y, warn=True)\n",
      "c:\\Users\\shahr\\AppData\\Local\\Programs\\Python\\Python311\\Lib\\site-packages\\sklearn\\preprocessing\\_label.py:153: DataConversionWarning: A column-vector y was passed when a 1d array was expected. Please change the shape of y to (n_samples, ), for example using ravel().\n",
      "  y = column_or_1d(y, warn=True)\n",
      "c:\\Users\\shahr\\AppData\\Local\\Programs\\Python\\Python311\\Lib\\site-packages\\sklearn\\preprocessing\\_label.py:153: DataConversionWarning: A column-vector y was passed when a 1d array was expected. Please change the shape of y to (n_samples, ), for example using ravel().\n",
      "  y = column_or_1d(y, warn=True)\n",
      "c:\\Users\\shahr\\AppData\\Local\\Programs\\Python\\Python311\\Lib\\site-packages\\sklearn\\preprocessing\\_label.py:153: DataConversionWarning: A column-vector y was passed when a 1d array was expected. Please change the shape of y to (n_samples, ), for example using ravel().\n",
      "  y = column_or_1d(y, warn=True)\n",
      "c:\\Users\\shahr\\AppData\\Local\\Programs\\Python\\Python311\\Lib\\site-packages\\sklearn\\preprocessing\\_label.py:153: DataConversionWarning: A column-vector y was passed when a 1d array was expected. Please change the shape of y to (n_samples, ), for example using ravel().\n",
      "  y = column_or_1d(y, warn=True)\n",
      "c:\\Users\\shahr\\AppData\\Local\\Programs\\Python\\Python311\\Lib\\site-packages\\sklearn\\preprocessing\\_label.py:153: DataConversionWarning: A column-vector y was passed when a 1d array was expected. Please change the shape of y to (n_samples, ), for example using ravel().\n",
      "  y = column_or_1d(y, warn=True)\n",
      "c:\\Users\\shahr\\AppData\\Local\\Programs\\Python\\Python311\\Lib\\site-packages\\sklearn\\preprocessing\\_label.py:153: DataConversionWarning: A column-vector y was passed when a 1d array was expected. Please change the shape of y to (n_samples, ), for example using ravel().\n",
      "  y = column_or_1d(y, warn=True)\n",
      "c:\\Users\\shahr\\AppData\\Local\\Programs\\Python\\Python311\\Lib\\site-packages\\sklearn\\preprocessing\\_label.py:153: DataConversionWarning: A column-vector y was passed when a 1d array was expected. Please change the shape of y to (n_samples, ), for example using ravel().\n",
      "  y = column_or_1d(y, warn=True)\n",
      "c:\\Users\\shahr\\AppData\\Local\\Programs\\Python\\Python311\\Lib\\site-packages\\sklearn\\preprocessing\\_label.py:153: DataConversionWarning: A column-vector y was passed when a 1d array was expected. Please change the shape of y to (n_samples, ), for example using ravel().\n",
      "  y = column_or_1d(y, warn=True)\n",
      "c:\\Users\\shahr\\AppData\\Local\\Programs\\Python\\Python311\\Lib\\site-packages\\sklearn\\preprocessing\\_label.py:153: DataConversionWarning: A column-vector y was passed when a 1d array was expected. Please change the shape of y to (n_samples, ), for example using ravel().\n",
      "  y = column_or_1d(y, warn=True)\n",
      "c:\\Users\\shahr\\AppData\\Local\\Programs\\Python\\Python311\\Lib\\site-packages\\sklearn\\preprocessing\\_label.py:153: DataConversionWarning: A column-vector y was passed when a 1d array was expected. Please change the shape of y to (n_samples, ), for example using ravel().\n",
      "  y = column_or_1d(y, warn=True)\n",
      "c:\\Users\\shahr\\AppData\\Local\\Programs\\Python\\Python311\\Lib\\site-packages\\sklearn\\preprocessing\\_label.py:153: DataConversionWarning: A column-vector y was passed when a 1d array was expected. Please change the shape of y to (n_samples, ), for example using ravel().\n",
      "  y = column_or_1d(y, warn=True)\n",
      "c:\\Users\\shahr\\AppData\\Local\\Programs\\Python\\Python311\\Lib\\site-packages\\sklearn\\preprocessing\\_label.py:153: DataConversionWarning: A column-vector y was passed when a 1d array was expected. Please change the shape of y to (n_samples, ), for example using ravel().\n",
      "  y = column_or_1d(y, warn=True)\n",
      "c:\\Users\\shahr\\AppData\\Local\\Programs\\Python\\Python311\\Lib\\site-packages\\sklearn\\preprocessing\\_label.py:153: DataConversionWarning: A column-vector y was passed when a 1d array was expected. Please change the shape of y to (n_samples, ), for example using ravel().\n",
      "  y = column_or_1d(y, warn=True)\n",
      "c:\\Users\\shahr\\AppData\\Local\\Programs\\Python\\Python311\\Lib\\site-packages\\sklearn\\preprocessing\\_label.py:153: DataConversionWarning: A column-vector y was passed when a 1d array was expected. Please change the shape of y to (n_samples, ), for example using ravel().\n",
      "  y = column_or_1d(y, warn=True)\n",
      "c:\\Users\\shahr\\AppData\\Local\\Programs\\Python\\Python311\\Lib\\site-packages\\sklearn\\preprocessing\\_label.py:153: DataConversionWarning: A column-vector y was passed when a 1d array was expected. Please change the shape of y to (n_samples, ), for example using ravel().\n",
      "  y = column_or_1d(y, warn=True)\n",
      "c:\\Users\\shahr\\AppData\\Local\\Programs\\Python\\Python311\\Lib\\site-packages\\sklearn\\preprocessing\\_label.py:153: DataConversionWarning: A column-vector y was passed when a 1d array was expected. Please change the shape of y to (n_samples, ), for example using ravel().\n",
      "  y = column_or_1d(y, warn=True)\n",
      "c:\\Users\\shahr\\AppData\\Local\\Programs\\Python\\Python311\\Lib\\site-packages\\sklearn\\preprocessing\\_label.py:153: DataConversionWarning: A column-vector y was passed when a 1d array was expected. Please change the shape of y to (n_samples, ), for example using ravel().\n",
      "  y = column_or_1d(y, warn=True)\n",
      "c:\\Users\\shahr\\AppData\\Local\\Programs\\Python\\Python311\\Lib\\site-packages\\sklearn\\preprocessing\\_label.py:153: DataConversionWarning: A column-vector y was passed when a 1d array was expected. Please change the shape of y to (n_samples, ), for example using ravel().\n",
      "  y = column_or_1d(y, warn=True)\n",
      "c:\\Users\\shahr\\AppData\\Local\\Programs\\Python\\Python311\\Lib\\site-packages\\sklearn\\preprocessing\\_label.py:153: DataConversionWarning: A column-vector y was passed when a 1d array was expected. Please change the shape of y to (n_samples, ), for example using ravel().\n",
      "  y = column_or_1d(y, warn=True)\n",
      "c:\\Users\\shahr\\AppData\\Local\\Programs\\Python\\Python311\\Lib\\site-packages\\sklearn\\preprocessing\\_label.py:153: DataConversionWarning: A column-vector y was passed when a 1d array was expected. Please change the shape of y to (n_samples, ), for example using ravel().\n",
      "  y = column_or_1d(y, warn=True)\n",
      "c:\\Users\\shahr\\AppData\\Local\\Programs\\Python\\Python311\\Lib\\site-packages\\sklearn\\preprocessing\\_label.py:153: DataConversionWarning: A column-vector y was passed when a 1d array was expected. Please change the shape of y to (n_samples, ), for example using ravel().\n",
      "  y = column_or_1d(y, warn=True)\n"
     ]
    }
   ],
   "source": [
    "y_preds = []\n",
    "with torch.inference_mode():\n",
    "    for data , label in test_dataloader:\n",
    "        X = data.to(device)\n",
    "        output = cnn_model(X)\n",
    "        \n",
    "        # appending the labels as their str format\n",
    "        main_pred_lbl = label_encoder.inverse_transform(output.argmax(dim=1,keepdim=True).cpu())\n",
    "        y_preds.append(main_pred_lbl)"
   ]
  },
  {
   "cell_type": "code",
   "execution_count": 26,
   "metadata": {},
   "outputs": [],
   "source": [
    "y_preds_flat = [item for sublist in y_preds for item in sublist]"
   ]
  },
  {
   "cell_type": "code",
   "execution_count": 27,
   "metadata": {},
   "outputs": [],
   "source": [
    "# again fitting a lebel encoder to turn the predictions into integers\n",
    "\n",
    "class_names = list(set(y_test[:,0]))\n",
    "# Create and fit LabelEncoder\n",
    "le = LabelEncoder()\n",
    "le.fit(class_names)\n",
    "\n",
    "# Encode predictions and true labels\n",
    "y_preds_encoded = le.transform(y_preds_flat)\n",
    "y_test_encoded = le.transform(y_test[:,0])\n",
    "\n",
    "# Convert numpy arrays to PyTorch tensors\n",
    "y_preds_tensor = torch.tensor(y_preds_encoded)\n",
    "y_true_tensor = torch.tensor(y_test_encoded)"
   ]
  },
  {
   "cell_type": "code",
   "execution_count": 28,
   "metadata": {},
   "outputs": [],
   "source": [
    "snr_index = []\n",
    "for i in range(-20,20,2):\n",
    "    snrs = bytes(str(i), 'utf-8')\n",
    "    snr_index.append([y_test[:,1] == snrs])"
   ]
  },
  {
   "cell_type": "code",
   "execution_count": 29,
   "metadata": {},
   "outputs": [
    {
     "data": {
      "image/png": "[encoded data removed]",
      "text/plain": [
       "<Figure size 10000x700 with 20 Axes>"
      ]
     },
     "metadata": {},
     "output_type": "display_data"
    }
   ],
   "source": [
    "# Number of subplots (one for each SNR index)\n",
    "num_plots = len(snr_index)\n",
    "\n",
    "number_of_classes = len(class_names)\n",
    "confmat = ConfusionMatrix(num_classes = number_of_classes, task='multiclass')\n",
    "\n",
    "# Create subplots\n",
    "fig, axes = plt.subplots(nrows=1, ncols=num_plots, figsize=(5 * num_plots, 7))\n",
    "\n",
    "# Ensure axes is iterable\n",
    "if num_plots == 1:\n",
    "    axes = [axes]"
   ]
  },
  {
   "cell_type": "code",
   "execution_count": 30,
   "metadata": {},
   "outputs": [],
   "source": [
    "# defining a accuaracy function to calculate acc at each SNR further in the code\n",
    "\n",
    "def accuracy(predictions , true_labels):\n",
    "    \n",
    "    correct_predictions = (predictions == true_labels).sum().item()\n",
    "    \n",
    "    return (correct_predictions / len(predictions))"
   ]
  },
  {
   "cell_type": "markdown",
   "metadata": {},
   "source": [
    "in this snippet we print the confusion matrix at each snr.  \n",
    "and then calculate the accuracy and save it at a list  \n",
    "then save each plot at the desired path"
   ]
  },
  {
   "cell_type": "code",
   "execution_count": 31,
   "metadata": {},
   "outputs": [],
   "source": [
    "# Create a folder if it doesn't exist\n",
    "save_folder = 'confusion_matrices'\n",
    "if not os.path.exists(save_folder):\n",
    "    os.makedirs(save_folder, exist_ok=True)\n",
    "\n",
    "snr_acc_list = []\n",
    "snrs = range(-20,20,2)\n",
    "for i, snr_i in enumerate(snr_index):\n",
    "\n",
    "    confmat_tensor = confmat(preds=y_preds_tensor[snr_i[0]], target=y_true_tensor[snr_i[0]])\n",
    "    # Convert the confusion matrix tensor to a NumPy array\n",
    "    cm = confmat_tensor.cpu().numpy()\n",
    "\n",
    "    # Convert confusion matrix to percentages\n",
    "    cm_percent = cm.astype('float') / cm.sum(axis=1)[:, np.newaxis] * 100\n",
    "\n",
    "    acc = accuracy(predictions= y_preds_tensor[snr_i[0]], true_labels = y_true_tensor[snr_i[0]])\n",
    "    acc = acc * 100\n",
    "    snr_acc_list.append([acc,snrs[i]])\n",
    "\n",
    "    _ , axes[i] = plot_confusion_matrix(conf_mat=cm_percent, # matplotlib likes working with NumPy \n",
    "                                    class_names=le.classes_, # turn the row and column labels into class names\n",
    "                                    )\n",
    "    axes[i].set_title(f'SNR : {snrs[i]} , accuracy = {acc:.2f}%')\n",
    "\n",
    "    save_path = os.path.join(save_folder, f'confusion_matrix_at_SNR{snrs[i]}.jpeg')\n",
    "    plt.savefig(save_path, format='jpeg')\n",
    "    plt.close()"
   ]
  },
  {
   "cell_type": "markdown",
   "metadata": {},
   "source": [
    "here we use `sklearn.metrics` to print out some validation metrics"
   ]
  },
  {
   "cell_type": "code",
   "execution_count": 32,
   "metadata": {},
   "outputs": [
    {
     "name": "stdout",
     "output_type": "stream",
     "text": [
      "Accuracy: 55.04%\n",
      "Class 0: Precision: 47.10%, Recall: 48.40%, F1-Score: 47.74%, Support: 4000.0\n",
      "Class 1: Precision: 62.29%, Recall: 63.35%, F1-Score: 62.82%, Support: 4000.0\n",
      "Class 2: Precision: 56.62%, Recall: 65.77%, F1-Score: 60.85%, Support: 4000.0\n",
      "Class 3: Precision: 62.90%, Recall: 70.60%, F1-Score: 66.53%, Support: 4000.0\n",
      "Class 4: Precision: 71.27%, Recall: 69.77%, F1-Score: 70.52%, Support: 4000.0\n",
      "Class 5: Precision: 40.71%, Recall: 32.52%, F1-Score: 36.16%, Support: 4000.0\n",
      "Class 6: Precision: 49.86%, Recall: 40.38%, F1-Score: 44.62%, Support: 4000.0\n",
      "Class 7: Precision: 45.73%, Recall: 49.55%, F1-Score: 47.56%, Support: 4000.0\n",
      "Class macro avg: Precision: 54.56%, Recall: 55.04%, F1-Score: 54.60%, Support: 32000.0\n",
      "Class weighted avg: Precision: 54.56%, Recall: 55.04%, F1-Score: 54.60%, Support: 32000.0\n",
      "Macro Avg: Precision: 54.56%, Recall: 55.04%, F1-Score: 54.60%\n"
     ]
    }
   ],
   "source": [
    "from sklearn.metrics import classification_report\n",
    "\n",
    "# 2. Accuracy as a Percentage\n",
    "accuracy = (y_preds_tensor == y_true_tensor).sum().item() / len(y_true_tensor) * 100\n",
    "print(f'Accuracy: {accuracy:.2f}%')\n",
    "\n",
    "# Convert tensors to NumPy for classification_report\n",
    "y_preds = y_preds_tensor.cpu().numpy()\n",
    "y_true = y_true_tensor.cpu().numpy()\n",
    "\n",
    "# Generate classification report\n",
    "report = classification_report(y_true, y_preds, output_dict=True)\n",
    "\n",
    "# Convert to percentages and display for each class\n",
    "for label, metrics in report.items():\n",
    "    if isinstance(metrics, dict):  # Ignore 'accuracy' field\n",
    "        precision = metrics['precision'] * 100\n",
    "        recall = metrics['recall'] * 100\n",
    "        f1_score = metrics['f1-score'] * 100\n",
    "        support = metrics['support']\n",
    "        print(f\"Class {label}: Precision: {precision:.2f}%, Recall: {recall:.2f}%, F1-Score: {f1_score:.2f}%, Support: {support}\")\n",
    "\n",
    "# 4. Macro and Weighted Metrics as Percentages\n",
    "macro_precision = report['macro avg']['precision'] * 100\n",
    "macro_recall = report['macro avg']['recall'] * 100\n",
    "macro_f1_score = report['macro avg']['f1-score'] * 100\n",
    "print(f\"Macro Avg: Precision: {macro_precision:.2f}%, Recall: {macro_recall:.2f}%, F1-Score: {macro_f1_score:.2f}%\")"
   ]
  },
  {
   "cell_type": "markdown",
   "metadata": {},
   "source": [
    "at the end you can the model's **accuracy vs snr** "
   ]
  },
  {
   "cell_type": "code",
   "execution_count": 33,
   "metadata": {},
   "outputs": [],
   "source": [
    "snr_acc_arr = np.array(snr_acc_list)"
   ]
  },
  {
   "cell_type": "code",
   "execution_count": 34,
   "metadata": {},
   "outputs": [
    {
     "data": {
      "image/png": "[encoded data removed]",
      "text/plain": [
       "<Figure size 640x480 with 1 Axes>"
      ]
     },
     "metadata": {},
     "output_type": "display_data"
    }
   ],
   "source": [
    "\n",
    "plt.plot(snr_acc_arr[:,1], snr_acc_arr[:,0], label='SNR vs Accuracy')\n",
    "\n",
    "# Adding labels and title\n",
    "plt.xlabel('SNRs')\n",
    "plt.ylabel('Accs')\n",
    "plt.title('SNR vs Accuracy')\n",
    "\n",
    "# Adding a legend\n",
    "plt.legend()\n",
    "\n",
    "# Show the plot\n",
    "plt.show()"
   ]
  }
 ],
 "metadata": {
  "kernelspec": {
   "display_name": "Python 3",
   "language": "python",
   "name": "python3"
  },
  "language_info": {
   "codemirror_mode": {
    "name": "ipython",
    "version": 3
   },
   "file_extension": ".py",
   "mimetype": "text/x-python",
   "name": "python",
   "nbconvert_exporter": "python",
   "pygments_lexer": "ipython3",
   "version": "3.11.6"
  }
 },
 "nbformat": 4,
 "nbformat_minor": 2
}
